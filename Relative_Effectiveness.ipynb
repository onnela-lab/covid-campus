{
 "cells": [
  {
   "cell_type": "code",
   "execution_count": 1,
   "metadata": {},
   "outputs": [],
   "source": [
    "import numpy as np\n",
    "import pandas as pd\n",
    "import networkx as nx\n",
    "from sklearn.linear_model import LinearRegression\n",
    "import statsmodels.api as sm\n",
    "import os\n",
    "import math\n",
    "import itertools\n",
    "import pickle\n",
    "import seaborn as sns\n",
    "import matplotlib as mpl\n",
    "import matplotlib.pyplot as plt\n",
    "\n",
    "%matplotlib inline"
   ]
  },
  {
   "cell_type": "markdown",
   "metadata": {},
   "source": [
    "### Read in Data"
   ]
  },
  {
   "cell_type": "code",
   "execution_count": 4,
   "metadata": {},
   "outputs": [
    {
     "data": {
      "text/plain": [
       "['beta006_multiNPI_0vax_hicom_0.csv',\n",
       " 'beta006_multiNPI_0vax_hicom_1.csv',\n",
       " 'beta006_multiNPI_0vax_hicom_2.csv',\n",
       " 'beta006_multiNPI_0vax_hicom_3.csv',\n",
       " 'beta006_multiNPI_0vax_hicom_4.csv',\n",
       " 'beta006_multiNPI_20vax_hicom_0.csv',\n",
       " 'beta006_multiNPI_20vax_hicom_1.csv',\n",
       " 'beta006_multiNPI_20vax_hicom_2.csv',\n",
       " 'beta006_multiNPI_20vax_hicom_3.csv',\n",
       " 'beta006_multiNPI_20vax_hicom_4.csv',\n",
       " 'beta006_multiNPI_40vax_hicom_0.csv',\n",
       " 'beta006_multiNPI_40vax_hicom_1.csv',\n",
       " 'beta006_multiNPI_40vax_hicom_2.csv',\n",
       " 'beta006_multiNPI_40vax_hicom_3.csv',\n",
       " 'beta006_multiNPI_40vax_hicom_4.csv']"
      ]
     },
     "execution_count": 4,
     "metadata": {},
     "output_type": "execute_result"
    }
   ],
   "source": [
    "sims = ['beta006_multiNPI_0vax_hicom', 'beta006_multiNPI_20vax_hicom', 'beta006_multiNPI_40vax_hicom']\n",
    "partitions = np.arange(5)\n",
    "sim_names = [sim + '_' + str(part) + '.csv' for sim in sims for part in partitions]\n",
    "sim_names"
   ]
  },
  {
   "cell_type": "code",
   "execution_count": 5,
   "metadata": {},
   "outputs": [],
   "source": [
    "df = pd.DataFrame()\n",
    "for file in sim_names:\n",
    "    tmpdf = pd.read_csv(file, header = 0, dtype = {'rep': int, 'p_vax': float, 'test_freq': int})\n",
    "    part = int(file[-5])\n",
    "    tmpdf['partition'] = np.repeat(part, repeats = tmpdf.shape[0])\n",
    "    df = df.append(tmpdf, ignore_index = True)"
   ]
  },
  {
   "cell_type": "code",
   "execution_count": 6,
   "metadata": {},
   "outputs": [
    {
     "data": {
      "text/html": [
       "<div>\n",
       "<style scoped>\n",
       "    .dataframe tbody tr th:only-of-type {\n",
       "        vertical-align: middle;\n",
       "    }\n",
       "\n",
       "    .dataframe tbody tr th {\n",
       "        vertical-align: top;\n",
       "    }\n",
       "\n",
       "    .dataframe thead th {\n",
       "        text-align: right;\n",
       "    }\n",
       "</style>\n",
       "<table border=\"1\" class=\"dataframe\">\n",
       "  <thead>\n",
       "    <tr style=\"text-align: right;\">\n",
       "      <th></th>\n",
       "      <th>rep</th>\n",
       "      <th>test_freq</th>\n",
       "      <th>p_sd</th>\n",
       "      <th>p_fm</th>\n",
       "      <th>p_vax</th>\n",
       "      <th>cum_uniq_inf</th>\n",
       "      <th>ext_inf_ct</th>\n",
       "      <th>partition</th>\n",
       "    </tr>\n",
       "  </thead>\n",
       "  <tbody>\n",
       "    <tr>\n",
       "      <th>181495</th>\n",
       "      <td>96</td>\n",
       "      <td>28</td>\n",
       "      <td>1.0</td>\n",
       "      <td>1.0</td>\n",
       "      <td>0.4</td>\n",
       "      <td>85</td>\n",
       "      <td>89</td>\n",
       "      <td>4</td>\n",
       "    </tr>\n",
       "    <tr>\n",
       "      <th>181496</th>\n",
       "      <td>97</td>\n",
       "      <td>28</td>\n",
       "      <td>1.0</td>\n",
       "      <td>1.0</td>\n",
       "      <td>0.4</td>\n",
       "      <td>82</td>\n",
       "      <td>82</td>\n",
       "      <td>4</td>\n",
       "    </tr>\n",
       "    <tr>\n",
       "      <th>181497</th>\n",
       "      <td>98</td>\n",
       "      <td>28</td>\n",
       "      <td>1.0</td>\n",
       "      <td>1.0</td>\n",
       "      <td>0.4</td>\n",
       "      <td>112</td>\n",
       "      <td>111</td>\n",
       "      <td>4</td>\n",
       "    </tr>\n",
       "    <tr>\n",
       "      <th>181498</th>\n",
       "      <td>99</td>\n",
       "      <td>28</td>\n",
       "      <td>1.0</td>\n",
       "      <td>1.0</td>\n",
       "      <td>0.4</td>\n",
       "      <td>91</td>\n",
       "      <td>92</td>\n",
       "      <td>4</td>\n",
       "    </tr>\n",
       "    <tr>\n",
       "      <th>181499</th>\n",
       "      <td>100</td>\n",
       "      <td>28</td>\n",
       "      <td>1.0</td>\n",
       "      <td>1.0</td>\n",
       "      <td>0.4</td>\n",
       "      <td>97</td>\n",
       "      <td>95</td>\n",
       "      <td>4</td>\n",
       "    </tr>\n",
       "  </tbody>\n",
       "</table>\n",
       "</div>"
      ],
      "text/plain": [
       "        rep  test_freq  p_sd  p_fm  p_vax  cum_uniq_inf  ext_inf_ct  partition\n",
       "181495   96         28   1.0   1.0    0.4            85          89          4\n",
       "181496   97         28   1.0   1.0    0.4            82          82          4\n",
       "181497   98         28   1.0   1.0    0.4           112         111          4\n",
       "181498   99         28   1.0   1.0    0.4            91          92          4\n",
       "181499  100         28   1.0   1.0    0.4            97          95          4"
      ]
     },
     "execution_count": 6,
     "metadata": {},
     "output_type": "execute_result"
    }
   ],
   "source": [
    "# Renumber reps to remove duplicates\n",
    "df['rep'] = df['rep'] + df['partition']*20\n",
    "df.tail()"
   ]
  },
  {
   "cell_type": "markdown",
   "metadata": {},
   "source": [
    "### Fit OLS Model"
   ]
  },
  {
   "cell_type": "code",
   "execution_count": 7,
   "metadata": {},
   "outputs": [],
   "source": [
    "# If no testing is included, it has to be treated as categorical since 0 is worst followed by 28, but 3 is best\n",
    "testdf = df.loc[df.test_freq!=0]"
   ]
  },
  {
   "cell_type": "code",
   "execution_count": 8,
   "metadata": {},
   "outputs": [
    {
     "data": {
      "text/html": [
       "<div>\n",
       "<style scoped>\n",
       "    .dataframe tbody tr th:only-of-type {\n",
       "        vertical-align: middle;\n",
       "    }\n",
       "\n",
       "    .dataframe tbody tr th {\n",
       "        vertical-align: top;\n",
       "    }\n",
       "\n",
       "    .dataframe thead th {\n",
       "        text-align: right;\n",
       "    }\n",
       "</style>\n",
       "<table border=\"1\" class=\"dataframe\">\n",
       "  <thead>\n",
       "    <tr style=\"text-align: right;\">\n",
       "      <th></th>\n",
       "      <th>test_freq</th>\n",
       "      <th>p_sd</th>\n",
       "      <th>p_fm</th>\n",
       "      <th>p_vax</th>\n",
       "    </tr>\n",
       "  </thead>\n",
       "  <tbody>\n",
       "    <tr>\n",
       "      <th>181495</th>\n",
       "      <td>28</td>\n",
       "      <td>1.0</td>\n",
       "      <td>1.0</td>\n",
       "      <td>0.4</td>\n",
       "    </tr>\n",
       "    <tr>\n",
       "      <th>181496</th>\n",
       "      <td>28</td>\n",
       "      <td>1.0</td>\n",
       "      <td>1.0</td>\n",
       "      <td>0.4</td>\n",
       "    </tr>\n",
       "    <tr>\n",
       "      <th>181497</th>\n",
       "      <td>28</td>\n",
       "      <td>1.0</td>\n",
       "      <td>1.0</td>\n",
       "      <td>0.4</td>\n",
       "    </tr>\n",
       "    <tr>\n",
       "      <th>181498</th>\n",
       "      <td>28</td>\n",
       "      <td>1.0</td>\n",
       "      <td>1.0</td>\n",
       "      <td>0.4</td>\n",
       "    </tr>\n",
       "    <tr>\n",
       "      <th>181499</th>\n",
       "      <td>28</td>\n",
       "      <td>1.0</td>\n",
       "      <td>1.0</td>\n",
       "      <td>0.4</td>\n",
       "    </tr>\n",
       "  </tbody>\n",
       "</table>\n",
       "</div>"
      ],
      "text/plain": [
       "        test_freq  p_sd  p_fm  p_vax\n",
       "181495         28   1.0   1.0    0.4\n",
       "181496         28   1.0   1.0    0.4\n",
       "181497         28   1.0   1.0    0.4\n",
       "181498         28   1.0   1.0    0.4\n",
       "181499         28   1.0   1.0    0.4"
      ]
     },
     "execution_count": 8,
     "metadata": {},
     "output_type": "execute_result"
    }
   ],
   "source": [
    "X = testdf[['test_freq', 'p_sd', 'p_fm', 'p_vax']]\n",
    "X.tail()"
   ]
  },
  {
   "cell_type": "code",
   "execution_count": 9,
   "metadata": {},
   "outputs": [],
   "source": [
    "y = testdf['cum_uniq_inf']"
   ]
  },
  {
   "cell_type": "code",
   "execution_count": 10,
   "metadata": {},
   "outputs": [
    {
     "name": "stdout",
     "output_type": "stream",
     "text": [
      "                            OLS Regression Results                            \n",
      "==============================================================================\n",
      "Dep. Variable:           cum_uniq_inf   R-squared:                       0.670\n",
      "Model:                            OLS   Adj. R-squared:                  0.670\n",
      "Method:                 Least Squares   F-statistic:                 7.369e+04\n",
      "Date:                Wed, 26 May 2021   Prob (F-statistic):               0.00\n",
      "Time:                        09:01:31   Log-Likelihood:            -6.7770e+05\n",
      "No. Observations:              145200   AIC:                         1.355e+06\n",
      "Df Residuals:                  145195   BIC:                         1.355e+06\n",
      "Df Model:                           4                                         \n",
      "Covariance Type:            nonrobust                                         \n",
      "==============================================================================\n",
      "                 coef    std err          t      P>|t|      [0.025      0.975]\n",
      "------------------------------------------------------------------------------\n",
      "const        213.8188      0.207   1033.838      0.000     213.413     214.224\n",
      "test_freq      0.5646      0.007     79.480      0.000       0.551       0.578\n",
      "p_sd         -45.6743      0.214   -213.741      0.000     -46.093     -45.255\n",
      "p_fm         -57.5501      0.214   -269.316      0.000     -57.969     -57.131\n",
      "p_vax       -170.7266      0.414   -412.574      0.000    -171.538    -169.916\n",
      "==============================================================================\n",
      "Omnibus:                    69956.954   Durbin-Watson:                   0.623\n",
      "Prob(Omnibus):                  0.000   Jarque-Bera (JB):           677577.570\n",
      "Skew:                           2.099   Prob(JB):                         0.00\n",
      "Kurtosis:                      12.714   Cond. No.                         101.\n",
      "==============================================================================\n",
      "\n",
      "Notes:\n",
      "[1] Standard Errors assume that the covariance matrix of the errors is correctly specified.\n"
     ]
    }
   ],
   "source": [
    "X_train_Sm = sm.add_constant(X)\n",
    "ls = sm.OLS(y,X_train_Sm).fit()\n",
    "print(ls.summary())"
   ]
  },
  {
   "cell_type": "markdown",
   "metadata": {},
   "source": [
    "* For every 10% increase in social distancing, cumulative incidence declines by 45.6743/10 = 4.56743\n",
    "* For every 10% increase in mask wearing, cumulative incidence declines on average by 57.5501/10 = 5.75501\n",
    "* For every 10% increase in immunity, cumulative incidence declines on average by 170.7266/10 = 17.07266\n",
    "* After controlling for these other factors, for every one day increase in testing frequency, cumulative incidence increases by 0.5646 on average. Conversely, for every one day decrease in testing frequency, cumulative incidence decreases by 0.5646 on average."
   ]
  },
  {
   "cell_type": "code",
   "execution_count": 12,
   "metadata": {},
   "outputs": [
    {
     "data": {
      "text/plain": [
       "7.912557562876374"
      ]
     },
     "execution_count": 12,
     "metadata": {},
     "output_type": "execute_result"
    }
   ],
   "source": [
    "4.46743/0.5646"
   ]
  },
  {
   "cell_type": "code",
   "execution_count": 13,
   "metadata": {},
   "outputs": [
    {
     "data": {
      "text/plain": [
       "10.193074743181015"
      ]
     },
     "execution_count": 13,
     "metadata": {},
     "output_type": "execute_result"
    }
   ],
   "source": [
    "5.75501/0.5646"
   ]
  },
  {
   "cell_type": "code",
   "execution_count": 14,
   "metadata": {},
   "outputs": [
    {
     "data": {
      "text/plain": [
       "30.238505136379736"
      ]
     },
     "execution_count": 14,
     "metadata": {},
     "output_type": "execute_result"
    }
   ],
   "source": [
    "17.07266/0.5646"
   ]
  },
  {
   "cell_type": "markdown",
   "metadata": {},
   "source": [
    "* A 10% increase in social distancing is equivalent to testing 7.9 days more frequently.\n",
    "* A 10% increase in masking is equivalent to testing 10.2 days more frequently.\n",
    "* A 10% increase in immunity is equivalent to testing 30.0 days more frequently."
   ]
  },
  {
   "cell_type": "code",
   "execution_count": 19,
   "metadata": {},
   "outputs": [
    {
     "data": {
      "text/plain": [
       "0.11303653661251963"
      ]
     },
     "execution_count": 19,
     "metadata": {},
     "output_type": "execute_result"
    }
   ],
   "source": [
    "(4.46743/(7*0.5646))*0.1"
   ]
  },
  {
   "cell_type": "code",
   "execution_count": 20,
   "metadata": {},
   "outputs": [
    {
     "data": {
      "text/plain": [
       "0.1456153534740145"
      ]
     },
     "execution_count": 20,
     "metadata": {},
     "output_type": "execute_result"
    }
   ],
   "source": [
    "(5.75501/(7*0.5646))*0.1"
   ]
  },
  {
   "cell_type": "code",
   "execution_count": 21,
   "metadata": {},
   "outputs": [
    {
     "data": {
      "text/plain": [
       "0.43197864480542486"
      ]
     },
     "execution_count": 21,
     "metadata": {},
     "output_type": "execute_result"
    }
   ],
   "source": [
    "(17.07266/(7*0.5646))*0.1"
   ]
  },
  {
   "cell_type": "markdown",
   "metadata": {},
   "source": [
    "Moving from testing once every 14 days to once every 7 days is equivalent to:\n",
    "* 11.4% increase in social distancing\n",
    "* 14.3% increase in mask wearing\n",
    "* 42.7% increase in immunity"
   ]
  },
  {
   "cell_type": "code",
   "execution_count": 22,
   "metadata": {},
   "outputs": [],
   "source": [
    "redux = 10\n",
    "tcoeff = 0.5646\n",
    "sdcoeff = 4.46743\n",
    "fmcoeff = 5.75501\n",
    "vxcoeff = 17.07266"
   ]
  },
  {
   "cell_type": "code",
   "execution_count": 23,
   "metadata": {},
   "outputs": [
    {
     "name": "stdout",
     "output_type": "stream",
     "text": [
      "17.711654268508678\n",
      "0.22384234336072417\n"
     ]
    }
   ],
   "source": [
    "print(redux/tcoeff)\n",
    "print((redux/sdcoeff)*0.1)"
   ]
  },
  {
   "cell_type": "code",
   "execution_count": 24,
   "metadata": {},
   "outputs": [
    {
     "name": "stdout",
     "output_type": "stream",
     "text": [
      "0.1737616442021821\n",
      "0.05857318074629262\n"
     ]
    }
   ],
   "source": [
    "print((redux/fmcoeff)*0.1)\n",
    "print((redux/vxcoeff)*0.1)"
   ]
  },
  {
   "cell_type": "markdown",
   "metadata": {},
   "source": [
    "To reduce cumulative incidence by 10 people (1.5% of student population), you need to:\n",
    "* increase testing frequency by 17.7 days\n",
    "* increase social distancing by 22.4%\n",
    "* increase masking by 17.4%\n",
    "* increase immunity by 5.9%"
   ]
  },
  {
   "cell_type": "code",
   "execution_count": 25,
   "metadata": {},
   "outputs": [
    {
     "data": {
      "image/png": "[encoded data removed]",
      "text/plain": [
       "<Figure size 1440x720 with 4 Axes>"
      ]
     },
     "metadata": {
      "needs_background": "light"
     },
     "output_type": "display_data"
    }
   ],
   "source": [
    "f, axs = plt.subplots(1, 4, figsize = (20, 10))\n",
    "for (i,col) in enumerate(X):\n",
    "    axs[i].scatter(testdf[col], testdf['cum_uniq_inf'])\n",
    "    axs[i].set_xlabel(col)\n",
    "    axs[i].set_ylabel('cumulative incidence')"
   ]
  },
  {
   "cell_type": "code",
   "execution_count": null,
   "metadata": {},
   "outputs": [],
   "source": []
  }
 ],
 "metadata": {
  "kernelspec": {
   "display_name": "Python 3",
   "language": "python",
   "name": "python3"
  },
  "language_info": {
   "codemirror_mode": {
    "name": "ipython",
    "version": 3
   },
   "file_extension": ".py",
   "mimetype": "text/x-python",
   "name": "python",
   "nbconvert_exporter": "python",
   "pygments_lexer": "ipython3",
   "version": "3.8.12"
  }
 },
 "nbformat": 4,
 "nbformat_minor": 4
}
